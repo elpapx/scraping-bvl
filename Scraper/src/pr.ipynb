{
 "cells": [
  {
   "metadata": {
    "ExecuteTime": {
     "end_time": "2025-03-25T18:10:41.204497Z",
     "start_time": "2025-03-25T18:10:40.164954Z"
    }
   },
   "cell_type": "code",
   "source": [
    "import pandas as pd\n",
    "import numpy as np"
   ],
   "id": "b690e1154ad368b7",
   "outputs": [],
   "execution_count": 1
  },
  {
   "metadata": {
    "ExecuteTime": {
     "end_time": "2025-03-25T18:13:31.371252Z",
     "start_time": "2025-03-25T18:13:31.356497Z"
    }
   },
   "cell_type": "code",
   "source": "bd = pd.read_csv(r'E:\\papx\\end_to_end_ml\\nb_pr\\scraping-bvl\\Scraper\\src\\data\\bvl_data.csv')",
   "id": "4d425188a028f0ac",
   "outputs": [],
   "execution_count": 4
  },
  {
   "metadata": {
    "ExecuteTime": {
     "end_time": "2025-03-25T18:13:35.642627Z",
     "start_time": "2025-03-25T18:13:35.583244Z"
    }
   },
   "cell_type": "code",
   "source": "bd",
   "id": "9d2a99601ddc0ed1",
   "outputs": [
    {
     "data": {
      "text/plain": [
       "   companyCode     companyName       shortName nemonico sectorCode  \\\n",
       "0        73250  CREDICORP LTD.  Credicorp Ltd.      BAP         CD   \n",
       "1        73250  CREDICORP LTD.  Credicorp Ltd.      BAP         CD   \n",
       "2        73250  CREDICORP LTD.  Credicorp Ltd.      BAP         CD   \n",
       "\n",
       "  sectorDescription             lastDate previousDate    buy    sell  ...  \\\n",
       "0          DIVERSAS  2025-03-17T19:23:03   2025-03-14  185.0  192.00  ...   \n",
       "1          DIVERSAS  2025-03-25T15:35:31   2025-03-24  194.9  196.19  ...   \n",
       "2          DIVERSAS  2025-03-25T17:21:24   2025-03-24  194.4  195.00  ...   \n",
       "\n",
       "   negotiatedNationalAmount  operationsNumber  exderecho  percentageChange  \\\n",
       "0                 1292974.0                16     191.99              1.93   \n",
       "1                    3536.0                 2        NaN               NaN   \n",
       "2                   11332.0                 3     194.63              1.34   \n",
       "\n",
       "   currency  unity  segment              createdDate  numNeg  \\\n",
       "0       US$      1      RV3  2025-03-17T15:20:17.622       0   \n",
       "1       US$      1      RV3  2025-03-25T11:00:17.294       0   \n",
       "2       US$      1      RV3  2025-03-25T13:00:17.833       0   \n",
       "\n",
       "                    timestamp  \n",
       "0  2025-03-17T15:38:13.965658  \n",
       "1  2025-03-25T11:02:58.644229  \n",
       "2  2025-03-25T13:03:00.186771  \n",
       "\n",
       "[3 rows x 27 columns]"
      ],
      "text/html": [
       "<div>\n",
       "<style scoped>\n",
       "    .dataframe tbody tr th:only-of-type {\n",
       "        vertical-align: middle;\n",
       "    }\n",
       "\n",
       "    .dataframe tbody tr th {\n",
       "        vertical-align: top;\n",
       "    }\n",
       "\n",
       "    .dataframe thead th {\n",
       "        text-align: right;\n",
       "    }\n",
       "</style>\n",
       "<table border=\"1\" class=\"dataframe\">\n",
       "  <thead>\n",
       "    <tr style=\"text-align: right;\">\n",
       "      <th></th>\n",
       "      <th>companyCode</th>\n",
       "      <th>companyName</th>\n",
       "      <th>shortName</th>\n",
       "      <th>nemonico</th>\n",
       "      <th>sectorCode</th>\n",
       "      <th>sectorDescription</th>\n",
       "      <th>lastDate</th>\n",
       "      <th>previousDate</th>\n",
       "      <th>buy</th>\n",
       "      <th>sell</th>\n",
       "      <th>...</th>\n",
       "      <th>negotiatedNationalAmount</th>\n",
       "      <th>operationsNumber</th>\n",
       "      <th>exderecho</th>\n",
       "      <th>percentageChange</th>\n",
       "      <th>currency</th>\n",
       "      <th>unity</th>\n",
       "      <th>segment</th>\n",
       "      <th>createdDate</th>\n",
       "      <th>numNeg</th>\n",
       "      <th>timestamp</th>\n",
       "    </tr>\n",
       "  </thead>\n",
       "  <tbody>\n",
       "    <tr>\n",
       "      <th>0</th>\n",
       "      <td>73250</td>\n",
       "      <td>CREDICORP LTD.</td>\n",
       "      <td>Credicorp Ltd.</td>\n",
       "      <td>BAP</td>\n",
       "      <td>CD</td>\n",
       "      <td>DIVERSAS</td>\n",
       "      <td>2025-03-17T19:23:03</td>\n",
       "      <td>2025-03-14</td>\n",
       "      <td>185.0</td>\n",
       "      <td>192.00</td>\n",
       "      <td>...</td>\n",
       "      <td>1292974.0</td>\n",
       "      <td>16</td>\n",
       "      <td>191.99</td>\n",
       "      <td>1.93</td>\n",
       "      <td>US$</td>\n",
       "      <td>1</td>\n",
       "      <td>RV3</td>\n",
       "      <td>2025-03-17T15:20:17.622</td>\n",
       "      <td>0</td>\n",
       "      <td>2025-03-17T15:38:13.965658</td>\n",
       "    </tr>\n",
       "    <tr>\n",
       "      <th>1</th>\n",
       "      <td>73250</td>\n",
       "      <td>CREDICORP LTD.</td>\n",
       "      <td>Credicorp Ltd.</td>\n",
       "      <td>BAP</td>\n",
       "      <td>CD</td>\n",
       "      <td>DIVERSAS</td>\n",
       "      <td>2025-03-25T15:35:31</td>\n",
       "      <td>2025-03-24</td>\n",
       "      <td>194.9</td>\n",
       "      <td>196.19</td>\n",
       "      <td>...</td>\n",
       "      <td>3536.0</td>\n",
       "      <td>2</td>\n",
       "      <td>NaN</td>\n",
       "      <td>NaN</td>\n",
       "      <td>US$</td>\n",
       "      <td>1</td>\n",
       "      <td>RV3</td>\n",
       "      <td>2025-03-25T11:00:17.294</td>\n",
       "      <td>0</td>\n",
       "      <td>2025-03-25T11:02:58.644229</td>\n",
       "    </tr>\n",
       "    <tr>\n",
       "      <th>2</th>\n",
       "      <td>73250</td>\n",
       "      <td>CREDICORP LTD.</td>\n",
       "      <td>Credicorp Ltd.</td>\n",
       "      <td>BAP</td>\n",
       "      <td>CD</td>\n",
       "      <td>DIVERSAS</td>\n",
       "      <td>2025-03-25T17:21:24</td>\n",
       "      <td>2025-03-24</td>\n",
       "      <td>194.4</td>\n",
       "      <td>195.00</td>\n",
       "      <td>...</td>\n",
       "      <td>11332.0</td>\n",
       "      <td>3</td>\n",
       "      <td>194.63</td>\n",
       "      <td>1.34</td>\n",
       "      <td>US$</td>\n",
       "      <td>1</td>\n",
       "      <td>RV3</td>\n",
       "      <td>2025-03-25T13:00:17.833</td>\n",
       "      <td>0</td>\n",
       "      <td>2025-03-25T13:03:00.186771</td>\n",
       "    </tr>\n",
       "  </tbody>\n",
       "</table>\n",
       "<p>3 rows × 27 columns</p>\n",
       "</div>"
      ]
     },
     "execution_count": 6,
     "metadata": {},
     "output_type": "execute_result"
    }
   ],
   "execution_count": 6
  },
  {
   "metadata": {
    "ExecuteTime": {
     "end_time": "2025-03-25T18:52:33.099396Z",
     "start_time": "2025-03-25T18:52:32.788268Z"
    }
   },
   "cell_type": "code",
   "source": "bd.info()",
   "id": "3e9bd1aa85021b8d",
   "outputs": [
    {
     "name": "stdout",
     "output_type": "stream",
     "text": [
      "<class 'pandas.core.frame.DataFrame'>\n",
      "RangeIndex: 3 entries, 0 to 2\n",
      "Data columns (total 27 columns):\n",
      " #   Column                    Non-Null Count  Dtype  \n",
      "---  ------                    --------------  -----  \n",
      " 0   companyCode               3 non-null      int64  \n",
      " 1   companyName               3 non-null      object \n",
      " 2   shortName                 3 non-null      object \n",
      " 3   nemonico                  3 non-null      object \n",
      " 4   sectorCode                3 non-null      object \n",
      " 5   sectorDescription         3 non-null      object \n",
      " 6   lastDate                  3 non-null      object \n",
      " 7   previousDate              3 non-null      object \n",
      " 8   buy                       3 non-null      float64\n",
      " 9   sell                      3 non-null      float64\n",
      " 10  last                      2 non-null      float64\n",
      " 11  minimun                   2 non-null      float64\n",
      " 12  maximun                   2 non-null      float64\n",
      " 13  opening                   2 non-null      float64\n",
      " 14  previous                  3 non-null      float64\n",
      " 15  negotiatedQuantity        3 non-null      int64  \n",
      " 16  negotiatedAmount          3 non-null      float64\n",
      " 17  negotiatedNationalAmount  3 non-null      float64\n",
      " 18  operationsNumber          3 non-null      int64  \n",
      " 19  exderecho                 2 non-null      float64\n",
      " 20  percentageChange          2 non-null      float64\n",
      " 21  currency                  3 non-null      object \n",
      " 22  unity                     3 non-null      int64  \n",
      " 23  segment                   3 non-null      object \n",
      " 24  createdDate               3 non-null      object \n",
      " 25  numNeg                    3 non-null      int64  \n",
      " 26  timestamp                 3 non-null      object \n",
      "dtypes: float64(11), int64(5), object(11)\n",
      "memory usage: 780.0+ bytes\n"
     ]
    }
   ],
   "execution_count": 7
  }
 ],
 "metadata": {
  "kernelspec": {
   "display_name": "Python 3",
   "language": "python",
   "name": "python3"
  },
  "language_info": {
   "codemirror_mode": {
    "name": "ipython",
    "version": 2
   },
   "file_extension": ".py",
   "mimetype": "text/x-python",
   "name": "python",
   "nbconvert_exporter": "python",
   "pygments_lexer": "ipython2",
   "version": "2.7.6"
  }
 },
 "nbformat": 4,
 "nbformat_minor": 5
}
